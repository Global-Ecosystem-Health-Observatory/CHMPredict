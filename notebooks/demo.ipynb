{
 "cells": [
  {
   "cell_type": "code",
   "execution_count": 1,
   "metadata": {},
   "outputs": [],
   "source": [
    "import os\n",
    "import sys\n",
    "\n",
    "current_dir = os.getcwd()\n",
    "\n",
    "parent_dir = os.path.abspath(os.path.join(current_dir, \"..\"))\n",
    "\n",
    "if parent_dir not in sys.path:\n",
    "    sys.path.append(parent_dir)"
   ]
  },
  {
   "cell_type": "code",
   "execution_count": 2,
   "metadata": {},
   "outputs": [
    {
     "name": "stdout",
     "output_type": "stream",
     "text": [
      "Namespace(config=None, data_folder='/Users/anisr/Documents/Finland_CHM', hdf5_file='Finland_CHM.h5', output_dir='../output/chmpredict', learning_rate=0.0001, batch_size=4, epochs=50, patience=5, eval_only=True)\n"
     ]
    }
   ],
   "source": [
    "import configargparse\n",
    "\n",
    "parser = configargparse.ArgParser(default_config_files=['../configs/config.ini'])\n",
    "\n",
    "parser.add('--config', is_config_file=True, help='Path to config file')\n",
    "parser.add('--data-folder', type=str, required=True, help='Root data directory containing Images and CHM folders')\n",
    "parser.add('--hdf5-file', type=str, default='Finland_CHM.h5', help='HDF5 file containing CHM dataset')\n",
    "parser.add('--output-dir', type=str, default='output/chmpredict', help='Directory to save output models and logs')\n",
    "parser.add('--learning-rate', type=float, default=1e-4, help='Learning rate for optimizer')\n",
    "parser.add('--batch-size', type=int, default=16, help='Batch size for DataLoader')\n",
    "parser.add('--epochs', type=int, default=50, help='Number of training epochs')\n",
    "parser.add('--patience', type=int, default=5, help='Patience for early stopping')\n",
    "\n",
    "config, _ = parser.parse_known_args()\n",
    "\n",
    "config.data_folder = '/Users/anisr/Documents/Finland_CHM'\n",
    "config.output_dir = '../output/chmpredict'\n",
    "config.batch_size = 4\n",
    "config.eval_only = True\n",
    "\n",
    "print(config)"
   ]
  },
  {
   "cell_type": "code",
   "execution_count": null,
   "metadata": {},
   "outputs": [],
   "source": [
    "from chmpredict.main import main\n",
    "\n",
    "main(config)"
   ]
  }
 ],
 "metadata": {
  "kernelspec": {
   "display_name": "venv",
   "language": "python",
   "name": "python3"
  },
  "language_info": {
   "codemirror_mode": {
    "name": "ipython",
    "version": 3
   },
   "file_extension": ".py",
   "mimetype": "text/x-python",
   "name": "python",
   "nbconvert_exporter": "python",
   "pygments_lexer": "ipython3",
   "version": "3.12.0"
  }
 },
 "nbformat": 4,
 "nbformat_minor": 2
}
