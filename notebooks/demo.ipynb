{
 "cells": [
  {
   "cell_type": "code",
   "execution_count": 1,
   "metadata": {},
   "outputs": [],
   "source": [
    "import os\n",
    "import sys\n",
    "\n",
    "current_dir = os.getcwd()\n",
    "\n",
    "parent_dir = os.path.abspath(os.path.join(current_dir, \"..\"))\n",
    "\n",
    "if parent_dir not in sys.path:\n",
    "    sys.path.append(parent_dir)"
   ]
  },
  {
   "cell_type": "code",
   "execution_count": 2,
   "metadata": {},
   "outputs": [
    {
     "name": "stdout",
     "output_type": "stream",
     "text": [
      "Namespace(config=None, data_folder='/Users/anisr/Documents/Finland_CHM', hdf5_file='Finland_CHM.h5', output_dir='../output/chmpredict', learning_rate=0.0001, batch_size=4, epochs=50, patience=5, eval_only=True)\n"
     ]
    }
   ],
   "source": [
    "import configargparse\n",
    "\n",
    "parser = configargparse.ArgParser(default_config_files=['../configs/config.ini'])\n",
    "\n",
    "parser.add('--config', is_config_file=True, help='Path to config file')\n",
    "parser.add('--data-folder', type=str, required=True, help='Root data directory containing Images and CHM folders')\n",
    "parser.add('--hdf5-file', type=str, default='Finland_CHM.h5', help='HDF5 file containing CHM dataset')\n",
    "parser.add('--output-dir', type=str, default='output/chmpredict', help='Directory to save output models and logs')\n",
    "parser.add('--learning-rate', type=float, default=1e-4, help='Learning rate for optimizer')\n",
    "parser.add('--batch-size', type=int, default=16, help='Batch size for DataLoader')\n",
    "parser.add('--epochs', type=int, default=50, help='Number of training epochs')\n",
    "parser.add('--patience', type=int, default=5, help='Patience for early stopping')\n",
    "\n",
    "config, _ = parser.parse_known_args()\n",
    "\n",
    "config.data_folder = '/Users/anisr/Documents/Finland_CHM'\n",
    "config.output_dir = '../output/chmpredict'\n",
    "config.batch_size = 4\n",
    "config.eval_only = True\n",
    "\n",
    "print(config)"
   ]
  },
  {
   "cell_type": "code",
   "execution_count": 3,
   "metadata": {},
   "outputs": [
    {
     "name": "stdout",
     "output_type": "stream",
     "text": [
      "Starting CHM Predictor Process...\n",
      "Calculated CHM Mean: 8.0351\n",
      "Calculated CHM Std: 8.6017\n",
      "HDF5 file /Users/anisr/Documents/Finland_CHM/Finland_CHM.h5 already exists. Skipping creation.\n",
      "Using device: cpu\n",
      "Loading data...\n",
      "Data loaded successfully: 160 test samples\n",
      "Building model and optimizer...\n",
      "Best model loaded from ../output/chmpredict/best_model.pth\n",
      "Model and optimizer built successfully.\n",
      "Evaluating on test data...\n",
      "Best model loaded from ../output/chmpredict/best_model.pth\n"
     ]
    },
    {
     "name": "stderr",
     "output_type": "stream",
     "text": [
      "Evaluating: 100%|██████████| 40/40 [02:15<00:00,  3.39s/batch]"
     ]
    },
    {
     "name": "stdout",
     "output_type": "stream",
     "text": [
      "mse: 48.0436\n",
      "mae: 5.1897\n",
      "rmse: 6.9314\n",
      "mape: 43.1373\n",
      "smape: 26.4647\n",
      "r2: 0.1576\n",
      "corr_coeff: 0.6570\n",
      "Test evaluation completed.\n",
      "CHM Predictor Process Completed.\n"
     ]
    },
    {
     "name": "stderr",
     "output_type": "stream",
     "text": [
      "\n"
     ]
    }
   ],
   "source": [
    "from chmpredict.main import main\n",
    "\n",
    "main(config)"
   ]
  },
  {
   "cell_type": "code",
   "execution_count": null,
   "metadata": {},
   "outputs": [],
   "source": []
  },
  {
   "cell_type": "code",
   "execution_count": 23,
   "metadata": {},
   "outputs": [
    {
     "name": "stdout",
     "output_type": "stream",
     "text": [
      "Calculated CHM Mean: 8.0351\n",
      "Calculated CHM Std: 8.6017\n",
      "Using device: cpu\n",
      "Loading data...\n",
      "Data loaded successfully: 160 test samples\n",
      "Building model and optimizer...\n",
      "Best model loaded from ../output/chmpredict/best_model.pth\n",
      "Model and optimizer built successfully.\n",
      "Best model loaded from ../output/chmpredict/best_model.pth\n"
     ]
    }
   ],
   "source": [
    "import torch\n",
    "\n",
    "from chmpredict.data.utils import calculate_chm_mean_std\n",
    "from chmpredict.data.loader import load_fn\n",
    "from chmpredict.model.build import build_fn, load_best_model\n",
    "\n",
    "rgb_dir = os.path.join(config.data_folder, \"Images\")\n",
    "chm_dir = os.path.join(config.data_folder, \"CHM\")\n",
    "\n",
    "hdf5_path = os.path.join(config.data_folder, config.hdf5_file)\n",
    "\n",
    "mean_chm, std_chm = calculate_chm_mean_std(chm_dir, num_threads=8, nan_value=-9999)\n",
    "print(f\"Calculated CHM Mean: {mean_chm:.4f}\")\n",
    "print(f\"Calculated CHM Std: {std_chm:.4f}\")\n",
    "    \n",
    "device = torch.device(\"cuda\" if torch.cuda.is_available() else \"cpu\")\n",
    "print(f\"Using device: {device}\")\n",
    "\n",
    "print(\"Loading data...\")\n",
    "_, _, test_loader = load_fn(hdf5_path, config.batch_size)\n",
    "print(f\"Data loaded successfully: {len(test_loader.dataset)} test samples\")\n",
    "\n",
    "print(\"Building model and optimizer...\")\n",
    "model, criterion, optimizer = build_fn(config.learning_rate, config.output_dir, device)\n",
    "print(\"Model and optimizer built successfully.\")\n",
    "\n",
    "load_best_model(model, config.output_dir, device)\n",
    "\n",
    "nan_value = -9999\n",
    "\n",
    "mean_chm = 5.9495\n",
    "std_chm = 6.4516"
   ]
  },
  {
   "cell_type": "code",
   "execution_count": 24,
   "metadata": {},
   "outputs": [
    {
     "name": "stderr",
     "output_type": "stream",
     "text": [
      "Evaluating: 100%|██████████| 40/40 [02:34<00:00,  3.86s/batch]\n"
     ]
    }
   ],
   "source": [
    "import torch\n",
    "import numpy as np\n",
    "\n",
    "from tqdm import tqdm\n",
    "\n",
    "model.eval()\n",
    "total_loss, total_mae, total_rmse = 0, 0, 0\n",
    "total_mape, total_smape = 0, 0\n",
    "epsilon = 1e-6  # To handle divide-by-zero\n",
    "n_samples = 0\n",
    "\n",
    "y_true_sum, y_pred_sum = 0, 0\n",
    "y_true_sq_sum, y_pred_sq_sum = 0, 0\n",
    "y_pred_y_true_sum = 0\n",
    "\n",
    "with torch.no_grad():\n",
    "    for data, targets in tqdm(test_loader, desc=\"Evaluating\", unit=\"batch\"):\n",
    "        data, targets = data.to(device), targets.to(device)\n",
    "        predictions = model(data)\n",
    "        \n",
    "        # Reverse normalization on predictions and targets\n",
    "        predictions = predictions * std_chm + mean_chm\n",
    "        targets = targets * std_chm + mean_chm\n",
    "        \n",
    "        # Mask out `nan_value` from targets and corresponding predictions\n",
    "        mask = targets != nan_value\n",
    "        targets = targets[mask]\n",
    "        predictions = predictions[mask]\n",
    "        \n",
    "        batch_size = targets.size(0)\n",
    "        total_loss += criterion(predictions, targets).item() * batch_size\n",
    "        n_samples += batch_size\n",
    "\n",
    "        targets_np = targets.cpu().numpy().flatten()\n",
    "        predictions_np = predictions.cpu().numpy().flatten()\n",
    "\n",
    "        # Calculate metrics while masking out the `nan_value` locations\n",
    "        total_mae += np.sum(np.abs(predictions_np - targets_np))\n",
    "        total_rmse += np.sum((predictions_np - targets_np) ** 2)\n",
    "\n",
    "        # Calculate MAPE and SMAPE with threshold to filter near-zero targets\n",
    "        min_height_threshold = 1.0  # Threshold for filtering near-zero target values\n",
    "        valid_mape_smape = targets_np > min_height_threshold\n",
    "        total_mape += np.sum(np.abs((predictions_np[valid_mape_smape] - targets_np[valid_mape_smape]) \n",
    "                                    / targets_np[valid_mape_smape])) * 100\n",
    "        total_smape += np.sum(2 * np.abs(predictions_np[valid_mape_smape] - targets_np[valid_mape_smape]) \n",
    "                                / (np.abs(targets_np[valid_mape_smape]) + np.abs(predictions_np[valid_mape_smape]) + epsilon)) * 100\n",
    "\n",
    "        # Accumulate values for R² and correlation coefficient calculations\n",
    "        y_true_sum += np.sum(targets_np)\n",
    "        y_pred_sum += np.sum(predictions_np)\n",
    "        y_true_sq_sum += np.sum(targets_np ** 2)\n",
    "        y_pred_sq_sum += np.sum(predictions_np ** 2)\n",
    "        y_pred_y_true_sum += np.sum(predictions_np * targets_np)"
   ]
  },
  {
   "cell_type": "code",
   "execution_count": 53,
   "metadata": {},
   "outputs": [
    {
     "name": "stdout",
     "output_type": "stream",
     "text": [
      "mse: 26.570, mae: 3.868, rmse: 5.155, mape: 40.530, smape: 25.957, r2: 0.102, corr_coeff: 0.665\n"
     ]
    }
   ],
   "source": [
    "# Final aggregated metrics\n",
    "avg_loss = total_loss / n_samples\n",
    "mae = total_mae / n_samples\n",
    "\n",
    "# Corrected RMSE\n",
    "rmse = np.sqrt(total_rmse / n_samples)\n",
    "\n",
    "# Corrected MAPE and SMAPE\n",
    "mape = total_mape / n_samples\n",
    "smape = total_smape / n_samples\n",
    "\n",
    "ss_res = np.sum((predictions_np - targets_np) ** 2)  # Correctly calculated as squared residuals\n",
    "\n",
    "ss_tot = np.sum((targets_np - np.mean(targets_np)) ** 2)  # Based on mean of target values\n",
    "\n",
    "r2 = 1 - (ss_res / (ss_tot + epsilon))  # Corrected R² formula\n",
    "\n",
    "# Correlation Coefficient Calculation\n",
    "numerator = n_samples * y_pred_y_true_sum - y_pred_sum * y_true_sum\n",
    "denominator = np.sqrt((n_samples * y_pred_sq_sum - y_pred_sum ** 2) * \n",
    "                    (n_samples * y_true_sq_sum - y_true_sum ** 2))\n",
    "corr_coeff = numerator / (denominator + epsilon)\n",
    "\n",
    "print(f\"mse: {avg_loss:.3f}, mae: {mae:.3f}, rmse: {rmse:.3f}, mape: {mape:.3f}, smape: {smape:.3f}, r2: {r2:.3f}, corr_coeff: {corr_coeff:.3f}\")"
   ]
  },
  {
   "cell_type": "code",
   "execution_count": 52,
   "metadata": {},
   "outputs": [
    {
     "data": {
      "text/plain": [
       "np.float32(0.10218257)"
      ]
     },
     "execution_count": 52,
     "metadata": {},
     "output_type": "execute_result"
    }
   ],
   "source": [
    "# Calculate SS_res as the sum of squared residuals\n",
    "ss_res = np.sum((predictions_np - targets_np) ** 2)\n",
    "\n",
    "# Calculate SS_tot as the total sum of squares\n",
    "ss_tot = np.sum((targets_np - np.mean(targets_np)) ** 2)\n",
    "\n",
    "# Calculate R^2\n",
    "r2 = 1 - (ss_res / (ss_tot + epsilon))\n",
    "\n",
    "r2"
   ]
  },
  {
   "cell_type": "code",
   "execution_count": 45,
   "metadata": {},
   "outputs": [
    {
     "name": "stdout",
     "output_type": "stream",
     "text": [
      "/Users/anisr/Documents/Finland_CHM/CHM/CHM_M4331C_2016.tif\n",
      "/Users/anisr/Documents/Finland_CHM/CHM/CHM_M4331B_2016.tif\n",
      "/Users/anisr/Documents/Finland_CHM/CHM/CHM_M4423G_2016.tif\n",
      "/Users/anisr/Documents/Finland_CHM/CHM/CHM_M4423F_2016.tif\n",
      "/Users/anisr/Documents/Finland_CHM/CHM/CHM_M4313F_2016.tif\n",
      "/Users/anisr/Documents/Finland_CHM/CHM/CHM_M4313G_2016.tif\n",
      "/Users/anisr/Documents/Finland_CHM/CHM/CHM_M4442D_2016.tif\n",
      "/Users/anisr/Documents/Finland_CHM/CHM/CHM_M4442E_2016.tif\n",
      "/Users/anisr/Documents/Finland_CHM/CHM/CHM_M4311E_2016.tif\n",
      "/Users/anisr/Documents/Finland_CHM/CHM/CHM_M4421E_2016.tif\n",
      "/Users/anisr/Documents/Finland_CHM/CHM/CHM_M4414D_2016.tif\n",
      "/Users/anisr/Documents/Finland_CHM/CHM/CHM_M4432B_2016.tif\n",
      "/Users/anisr/Documents/Finland_CHM/CHM/CHM_M4441A_2016.tif\n",
      "/Users/anisr/Documents/Finland_CHM/CHM/CHM_M4421H_2016.tif\n",
      "/Users/anisr/Documents/Finland_CHM/CHM/CHM_M4442C_2016.tif\n",
      "/Users/anisr/Documents/Finland_CHM/CHM/CHM_M4442B_2016.tif\n",
      "/Users/anisr/Documents/Finland_CHM/CHM/CHM_M4414H_2016.tif\n",
      "/Users/anisr/Documents/Finland_CHM/CHM/CHM_M4414B_2016.tif\n",
      "/Users/anisr/Documents/Finland_CHM/CHM/CHM_M4432D_2016.tif\n",
      "/Users/anisr/Documents/Finland_CHM/CHM/CHM_M4441F_2016.tif\n",
      "/Users/anisr/Documents/Finland_CHM/CHM/CHM_M4311H_2016.tif\n",
      "/Users/anisr/Documents/Finland_CHM/CHM/CHM_M4331D_2016.tif\n",
      "/Users/anisr/Documents/Finland_CHM/CHM/CHM_M4412H_2016.tif\n",
      "/Users/anisr/Documents/Finland_CHM/CHM/CHM_M4424G_2016.tif\n",
      "/Users/anisr/Documents/Finland_CHM/CHM/CHM_M4424F_2016.tif\n",
      "/Users/anisr/Documents/Finland_CHM/CHM/CHM_M4423A_2016.tif\n",
      "/Users/anisr/Documents/Finland_CHM/CHM/CHM_M4313A_2016.tif\n",
      "/Users/anisr/Documents/Finland_CHM/CHM/CHM_M4421G_2016.tif\n",
      "/Users/anisr/Documents/Finland_CHM/CHM/CHM_M4421F_2016.tif\n",
      "/Users/anisr/Documents/Finland_CHM/CHM/CHM_M4441C_2016.tif\n",
      "/Users/anisr/Documents/Finland_CHM/CHM/CHM_M4441B_2016.tif\n",
      "/Users/anisr/Documents/Finland_CHM/CHM/CHM_M4414F_2016.tif\n",
      "/Users/anisr/Documents/Finland_CHM/CHM/CHM_M4442F_2016.tif\n",
      "/Users/anisr/Documents/Finland_CHM/CHM/CHM_M4311F_2016.tif\n",
      "/Users/anisr/Documents/Finland_CHM/CHM/CHM_M4311G_2016.tif\n",
      "/Users/anisr/Documents/Finland_CHM/CHM/CHM_M4412F_2016.tif\n",
      "/Users/anisr/Documents/Finland_CHM/CHM/CHM_M4424H_2016.tif\n",
      "/Users/anisr/Documents/Finland_CHM/CHM/CHM_M4313E_2016.tif\n",
      "/Users/anisr/Documents/Finland_CHM/CHM/CHM_M4313D_2016.tif\n",
      "/Users/anisr/Documents/Finland_CHM/CHM/CHM_M4331A_2016.tif\n",
      "/Users/anisr/Documents/Finland_CHM/CHM/CHM_M4423D_2016.tif\n",
      "/Users/anisr/Documents/Finland_CHM/CHM/CHM_M4423E_2016.tif\n",
      "/Users/anisr/Documents/Finland_CHM/CHM/CHM_M4313B_2016.tif\n",
      "/Users/anisr/Documents/Finland_CHM/CHM/CHM_M4313C_2016.tif\n",
      "/Users/anisr/Documents/Finland_CHM/CHM/CHM_M4423H_2016.tif\n",
      "/Users/anisr/Documents/Finland_CHM/CHM/CHM_M4313H_2016.tif\n",
      "/Users/anisr/Documents/Finland_CHM/CHM/CHM_M4424E_2016.tif\n",
      "/Users/anisr/Documents/Finland_CHM/CHM/CHM_M4423C_2016.tif\n",
      "/Users/anisr/Documents/Finland_CHM/CHM/CHM_M4423B_2016.tif\n",
      "/Users/anisr/Documents/Finland_CHM/CHM/CHM_M4441D_2016.tif\n",
      "/Users/anisr/Documents/Finland_CHM/CHM/CHM_M4441E_2016.tif\n",
      "/Users/anisr/Documents/Finland_CHM/CHM/CHM_M4432F_2016.tif\n",
      "/Users/anisr/Documents/Finland_CHM/CHM/CHM_M4442A_2016.tif\n"
     ]
    },
    {
     "data": {
      "text/plain": [
       "(np.float32(13.933638), np.float32(6.8285794))"
      ]
     },
     "execution_count": 45,
     "metadata": {},
     "output_type": "execute_result"
    }
   ],
   "source": [
    "import rasterio\n",
    "\n",
    "canopy_heights = []\n",
    "\n",
    "for chm_file in os.listdir(chm_dir):\n",
    "    if chm_file.endswith(\".tif\"):\n",
    "        chm_path = os.path.join(chm_dir, chm_file)\n",
    "        print(chm_path)\n",
    "        with rasterio.open(chm_path) as chm_src:\n",
    "            chm_data = chm_src.read(1).astype(np.float32)\n",
    "            canopy_data = chm_data[chm_data > 1]  # Filter out ground-level values\n",
    "            canopy_heights.extend(canopy_data)\n",
    "\n",
    "mean_canopy = np.mean(canopy_heights)\n",
    "std_canopy = np.std(canopy_heights)\n",
    "\n",
    "mean_canopy, std_canopy"
   ]
  }
 ],
 "metadata": {
  "kernelspec": {
   "display_name": "venv",
   "language": "python",
   "name": "python3"
  },
  "language_info": {
   "codemirror_mode": {
    "name": "ipython",
    "version": 3
   },
   "file_extension": ".py",
   "mimetype": "text/x-python",
   "name": "python",
   "nbconvert_exporter": "python",
   "pygments_lexer": "ipython3",
   "version": "3.12.0"
  }
 },
 "nbformat": 4,
 "nbformat_minor": 2
}
