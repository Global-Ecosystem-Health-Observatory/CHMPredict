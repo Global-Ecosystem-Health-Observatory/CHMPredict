{
 "cells": [
  {
   "cell_type": "code",
   "execution_count": 4,
   "metadata": {},
   "outputs": [],
   "source": [
    "import os\n",
    "import sys\n",
    "\n",
    "current_dir = os.getcwd()\n",
    "\n",
    "parent_dir = os.path.abspath(os.path.join(current_dir, \"..\"))\n",
    "\n",
    "if parent_dir not in sys.path:\n",
    "    sys.path.append(parent_dir)"
   ]
  },
  {
   "cell_type": "code",
   "execution_count": null,
   "metadata": {},
   "outputs": [],
   "source": [
    "import configargparse\n",
    "\n",
    "parser = configargparse.ArgParser(default_config_files=['../configs/config.ini'])\n",
    "\n",
    "parser.add('--config', is_config_file=True, help='Path to config file')\n",
    "parser.add('--data-folder', type=str, required=True, help='Root data directory containing Images and CHM folders')\n",
    "parser.add('--output-dir', type=str, default='output/chmpredict', help='Directory to save output models and logs')\n",
    "parser.add('--learning-rate', type=float, default=1e-4, help='Learning rate for optimizer')\n",
    "parser.add('--batch-size', type=int, default=16, help='Batch size for DataLoader')\n",
    "parser.add('--epochs', type=int, default=50, help='Number of training epochs')\n",
    "parser.add('--patience', type=int, default=5, help='Patience for early stopping')\n",
    "\n",
    "config, _ = parser.parse_known_args()\n",
    "\n",
    "config.data_folder = '/Users/anisr/Documents/Finland_CHM'\n",
    "config.output_dir = '../output/chmpredict'\n",
    "\n",
    "print(config)"
   ]
  },
  {
   "cell_type": "code",
   "execution_count": 6,
   "metadata": {},
   "outputs": [],
   "source": [
    "import torch\n",
    "\n",
    "from chmpredict.data.loader import load_fn\n",
    "from chmpredict.model.build import build_fn\n",
    "from chmpredict.model.train import train_fn\n",
    "from chmpredict.model.eval import eval_fn\n",
    "\n",
    "device = torch.device(\"cuda\" if torch.cuda.is_available() else \"cpu\")\n",
    "\n",
    "if not os.path.exists(config.output_dir):\n",
    "    os.makedirs(config.output_dir)\n",
    "\n",
    "train_loader, val_loader, test_loader = load_fn(config.data_folder, config.batch_size)\n",
    "\n",
    "model, criterion, optimizer = build_fn(config.learning_rate, device)"
   ]
  },
  {
   "cell_type": "code",
   "execution_count": null,
   "metadata": {},
   "outputs": [],
   "source": [
    "train_fn(train_loader, val_loader, model, criterion, optimizer, config.epochs, config.patience, config.output_dir, device)\n",
    "\n",
    "eval_fn(test_loader, model, criterion, config.output_dir, device)"
   ]
  }
 ],
 "metadata": {
  "kernelspec": {
   "display_name": "venv",
   "language": "python",
   "name": "python3"
  },
  "language_info": {
   "codemirror_mode": {
    "name": "ipython",
    "version": 3
   },
   "file_extension": ".py",
   "mimetype": "text/x-python",
   "name": "python",
   "nbconvert_exporter": "python",
   "pygments_lexer": "ipython3",
   "version": "3.12.0"
  }
 },
 "nbformat": 4,
 "nbformat_minor": 2
}
