{
 "cells": [
  {
   "cell_type": "code",
   "execution_count": 1,
   "metadata": {},
   "outputs": [],
   "source": [
    "import os\n",
    "import sys\n",
    "\n",
    "current_dir = os.getcwd()\n",
    "\n",
    "parent_dir = os.path.abspath(os.path.join(current_dir, \"..\"))\n",
    "\n",
    "if parent_dir not in sys.path:\n",
    "    sys.path.append(parent_dir)"
   ]
  },
  {
   "cell_type": "code",
   "execution_count": null,
   "metadata": {},
   "outputs": [],
   "source": [
    "import configargparse\n",
    "\n",
    "parser = configargparse.ArgParser(default_config_files=['../configs/config.ini'])\n",
    "\n",
    "parser.add('--config', is_config_file=True, help='Path to config file')\n",
    "parser.add('--data-folder', type=str, required=True, help='Root data directory containing Images and CHM folders')\n",
    "parser.add('--hdf5-file', type=str, default='Finland_CHM.h5', help='HDF5 file containing CHM dataset')\n",
    "parser.add('--output-dir', type=str, default='output/chmpredict', help='Directory to save output models and logs')\n",
    "parser.add('--learning-rate', type=float, default=1e-4, help='Learning rate for optimizer')\n",
    "parser.add('--batch-size', type=int, default=16, help='Batch size for DataLoader')\n",
    "parser.add('--epochs', type=int, default=50, help='Number of training epochs')\n",
    "parser.add('--patience', type=int, default=5, help='Patience for early stopping')\n",
    "\n",
    "config, _ = parser.parse_known_args()\n",
    "\n",
    "config.data_folder = '/Users/anisr/Documents/Finland_CHM'\n",
    "config.output_dir = '../output/chmpredict'\n",
    "config.batch_size = 4\n",
    "\n",
    "print(config)"
   ]
  },
  {
   "cell_type": "code",
   "execution_count": null,
   "metadata": {},
   "outputs": [],
   "source": [
    "import os\n",
    "import torch\n",
    "\n",
    "from chmpredict.data.create import create_patch_pool\n",
    "from chmpredict.data.loader import load_fn\n",
    "\n",
    "from chmpredict.model.build import build_fn\n",
    "from chmpredict.model.callback import EarlyStopping, ModelCheckpoint\n",
    "from chmpredict.model.train import train_fn\n",
    "from chmpredict.model.eval import eval_fn\n",
    "\n",
    "device = torch.device(\"cuda\" if torch.cuda.is_available() else \"cpu\")\n",
    "\n",
    "if not os.path.exists(config.output_dir):\n",
    "    os.makedirs(config.output_dir)\n",
    "\n",
    "hdf5_path = os.path.join(config.data_folder, config.hdf5_file)\n",
    "\n",
    "if not os.path.exists(hdf5_path):\n",
    "    print(f\"Creating patch pool at {hdf5_path}...\")\n",
    "    create_patch_pool(config.data_folder, config.hdf5_file, patch_size=256, stride=256)\n",
    "else:\n",
    "    print(f\"HDF5 file {hdf5_path} already exists. Skipping creation.\")\n",
    "\n",
    "train_loader, val_loader, test_loader = load_fn(hdf5_path, config.batch_size)\n",
    "\n",
    "model, criterion, optimizer = build_fn(config.learning_rate, config.output_dir, device)\n",
    "\n",
    "early_stopping = EarlyStopping(patience=config.patience)\n",
    "model_checkpoint = ModelCheckpoint(output_dir=config.output_dir)"
   ]
  },
  {
   "cell_type": "code",
   "execution_count": null,
   "metadata": {},
   "outputs": [],
   "source": [
    "\n",
    "train_fn(train_loader, val_loader, model, criterion, optimizer, config.epochs, config.patience, config.output_dir, device, callbacks=[early_stopping, model_checkpoint])\n",
    "\n",
    "eval_fn(test_loader, model, criterion, config.output_dir, device)"
   ]
  }
 ],
 "metadata": {
  "kernelspec": {
   "display_name": "venv",
   "language": "python",
   "name": "python3"
  },
  "language_info": {
   "codemirror_mode": {
    "name": "ipython",
    "version": 3
   },
   "file_extension": ".py",
   "mimetype": "text/x-python",
   "name": "python",
   "nbconvert_exporter": "python",
   "pygments_lexer": "ipython3",
   "version": "3.12.0"
  }
 },
 "nbformat": 4,
 "nbformat_minor": 2
}
